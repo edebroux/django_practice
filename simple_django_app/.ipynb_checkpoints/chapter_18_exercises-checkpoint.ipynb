{
 "cells": [
  {
   "cell_type": "markdown",
   "metadata": {},
   "source": [
    "# Chapter 18-Getting Started with Django\n",
    "### Setting Up a Project\n",
    "We need to describe the project specification, i.e. *spec*.\n",
    "##### Writing a Spec\n",
    "We will write a web application called Learning Log that allows users to log the topics they are interested in and to make journal entries as they learn about each topic. The Learning Log home page should describe the site and invite users to either register or log in. Once logged in, a user should be able to create new topics, add new entries, and read and edit existing entries.\n",
    "##### Creating a project\n",
    "This set of commands will create a Django project:\n",
    "```bash\n",
    "(venv) (base) learning_log$ django-admin startproject learning_log\n",
    "(venv) (base) learning_log$ ls\n",
    "learning_log   venv    manage.py\n",
    "(venv) (base) learning_log$ ls learning_log\n",
    "__init__.py   settings.py   urls.py   wsgi.py\n",
    "\n",
    "```\n",
    "\n",
    "Running thisthe *learning_log* directory contains 4 files, the most important of which are the *settings.py*, *urls.py*, and *wsgi.py*. The *settings.py* file controls how Django interacts with our system and manages our project. We will modifya few of these settings and add some settings of our own. The *urls.py* file tells Django which pages to build in response to browser requests. The *wsgi.py* file helps Django serve the files it creates. The filename is an acronym for *web server gateway interface*."
   ]
  },
  {
   "cell_type": "markdown",
   "metadata": {},
   "source": [
    "##### Creating a Database\n",
    "Because Django stores most of the information related to a project in a database, we need to create a database that Django can work with. To create the database for the Learning Log project, enter the following command (still in the active environment):"
   ]
  },
  {
   "cell_type": "markdown",
   "metadata": {},
   "source": [
    "```bash\n",
    "(venv) (base) learning_log$ python manage.py migrate\n",
    "Operations to perform:\n",
    "    Synchronize unmigrated apps: messages, staticfiles\n",
    "    Apply all migrations: contenttypes, sessions, auth, admin\n",
    "    --snip--\n",
    "    applying sessions.0001_initial... OK\n",
    "(venv) (base) learning_log$ ls\n",
    "db.sqlite3   learning_log   venv    manage.py\n",
    "```"
   ]
  },
  {
   "cell_type": "markdown",
   "metadata": {},
   "source": [
    "Any time we modify a database, this is known as *migrating* a database. Issuing the `migrate` command for the first time tells Django to make sure the database matches the current state of the project. The first time we run this command in a new project using SQLite, Django will create a new database for us. Django starts by reporting that it will make the database tables needed to store the info we will use in this project, known as *Synchronizing unmigrated apps*, and then make sure the database structure matches the current code, known as *applying all migrations*. \n",
    "\n",
    "Running the `ls` command shows that Django created another file called `db.sqlite3`. SQLite is a database that runs off a single file; it's ideal for writin simple apps because we won't have to pay much attention to managing the database.\n",
    "##### Viewing the Project\n",
    "Let's make sure that Django has set up the project properly by entering the `runserver` command:"
   ]
  },
  {
   "cell_type": "markdown",
   "metadata": {},
   "source": [
    "```bash\n",
    "(venv) (base) learning_log$ python3 manage.py runserver\n",
    "\n",
    "System check identified no issues (0 silenced)\n",
    "February 17, 2021 - 05:00:02\n",
    "Django version 3.1.6, using settings 'learning_log.settings'\n",
    "Starting development server at http://127.0.0.1:8000/\n",
    "Quit the server with CONTROL-C.\n",
    "```"
   ]
  },
  {
   "cell_type": "markdown",
   "metadata": {},
   "source": [
    "Django starts a server so we can view the project on my machine to see how well it works. When we request a page by entering a URL in a browser, the Django server responds to that request by building the appropriate page and sending that page to the browser.\n",
    "\n",
    "Django starts by checking to make sure the project is set up properly. Then it reports the version of Django in use and the name of the settings file being used. After that, it reports the URL where the project is being served. The URL *http://127.0.0.1:8000* indicates that the project is listening for requests on port 8000 on my computer--called a localhost. The term *localhost* refers to a server that only processes requests on our system.\n",
    "\n",
    "We can open our new page by entering the URL above.\n",
    "##### Exercise\n",
    "Build a couple of empty projects and look at what it creates. Make a new folder with a simple name, navigate to that folder in the terminal, and create a virtual environment. Install Django, and run the command `django-admin.py starrproject blah .` and include the dot at the end of the command.\n",
    "\n",
    "Look at the files and folders this command creates and compare them to Learning Log. Delete the new projects if you want to."
   ]
  },
  {
   "cell_type": "markdown",
   "metadata": {},
   "source": [
    "##### Starting an App\n",
    "A Django *project* is organized as a group of individual *apps* that work together to make the project work as a whole. For now, we'll create just one app to do most of the work for our project. We will add another app to manage user accounts in the next section.\n",
    "\n",
    "We are running our Django server through the `runserver` command we opened earlier. Open a new terminal window and navigate to the directory that contains `manage.py`. Activate the virtual envirnment, and then run the `startapp` cmd. Here is how it looks in my Linux window:"
   ]
  },
  {
   "cell_type": "markdown",
   "metadata": {},
   "source": [
    "```bash\n",
    "(base) evan~$ source ./venv/bin/activate\n",
    "(venv) (base) evan~$ cd Documents/django_practice/simple_django_app/\n",
    "(venv) (base) evan~Documents/django_practice/simple_django_app/$ python manage.py startapp learning_logs\n",
    "(venv) (base) evan~Documents/django_practice/simple_django_app/$ ls \n",
    "chapter_18_exercises.ipynb   db.sqlite3   learning_log   learning_logs   manage.py\n",
    "(venv) (base) evan~Documents/django_practice/simple_django_app/$ ls learning_logs/\n",
    "admin.py   __init__.py   models.py     tests.py\n",
    "apps.py    migrations    __pycache__   views.py\n",
    "```"
   ]
  },
  {
   "cell_type": "markdown",
   "metadata": {},
   "source": [
    "The command `startapp appname` tells Django to create the infrastructure to build an app. If we look in the project directory now, we'll see a new folder called `learning_logs`. We can see all the files that were created using the command `ls learning_logs/`.\n",
    "##### Defining Models\n",
    "Let's think about our data for a moment. Each user will need to create a number of topics in their learning log. Each entry they make will be tied to a topic, and these entries will be displayed as text. We will also need to store the timestamp of each entry so we can show users when theyh made each entry. Opening `models.py` we see:\n",
    "```python\n",
    "from django.db import models\n",
    "\n",
    "# Create your models here\n",
    "```\n",
    "A module called `models` is being imported for us, and we are being invited to create models of our own. A model tells Django how to work with the data that will be stored in the app. Code-wise, a model is just a class; it has attributes and methods. Here's the model for the topics useres will store:\n",
    "```python\n",
    "class Topic(models.Model):\n",
    "    \"\"\"A topic the user is learning about\"\"\"\n",
    "    text = models.CharField(max_length = 200)\n",
    "    date_added = models.DateTimeField(auto_now_add = True)\n",
    "    \n",
    "    def __str__(self):\n",
    "        \"\"\"Return a string representation of the model.\"\"\"\n",
    "        return self.text\n",
    "```"
   ]
  },
  {
   "cell_type": "markdown",
   "metadata": {},
   "source": [
    "We have created a class called `Topic`, which inherits from `Model`-a parent class included in Django that defines the basic functionality of a model. Only two attributes are in the `Topic` class: `text` and `date_added`.\n",
    "\n",
    "The `text` attribute is a `CharField`-a piece of data that's made up of characters, or text. You use `CharField` when you want to store a small amount of text, such as a name, a title, or a city. When we define a `CharField` attribute, we have to tell Django how much space it should reserve in the database. Here we give it a `maxlength` of 200 characters, which should be enough to hold most topic names.\n",
    "\n",
    "The `date_added` attribute is a `DateTimeField`-a piece of data that will record a date and time. We pass the argument `auto_new_add = True`, which tells Django to automatically set this attribute to the current date and time whenever the user creates a new topic.\n",
    "\n",
    "We need to tell Django which attribute to use by default when it displays information about a topic. Django calls a `__str__()` method that returns the string stored in the text attribute.\n",
    "##### Activating models\n",
    "To use our models, we have to tell Django to include oiur app in the overall project. Open `settings.py` and we will see a section that tells Django which apps are installed in the project:\n",
    "```python\n",
    "INSTALLED_APPS = [\n",
    "    'django.contrib.admin',\n",
    "    'django.contrib.auth',\n",
    "    'django.contrib.contenttypes',\n",
    "    'django.contrib.sessions',\n",
    "    'django.contrib.messages',\n",
    "    'django.contrib.staticfiles',\n",
    "]\n",
    "```\n",
    "This is a list telling Django which apps will work together to make up the project. Add our app to this tuple by modifying `INSTALLED_APPS` so it looks like:\n",
    "```python\n",
    "INSTALLED_APPS = [\n",
    "    'django.contrib.admin',\n",
    "    'django.contrib.auth',\n",
    "    'django.contrib.contenttypes',\n",
    "    'django.contrib.sessions',\n",
    "    'django.contrib.messages',\n",
    "    'django.contrib.staticfiles',\n",
    "    # My applications\n",
    "    'learning_logs',\n",
    "]\n",
    "--snip--\n",
    "```\n",
    "Grouping apps together in a project helps to keep track of them as the project grows to include more apps. Here we start a section called *My applications*, which includes only `learning_logs` for now.\n",
    "\n",
    "Next we need to tell Django to modify the database so it can store information related to the model `Topic`. From the terminal run the following command:"
   ]
  },
  {
   "cell_type": "markdown",
   "metadata": {},
   "source": [
    "```bash\n",
    "(venv) (base) evan$ cd Documents/django_practice/simple_django_app/\n",
    "(venv) (base) evan~Documents/django_practice/simple_django_app/$ python manage.py makemigrations learning_logs\n",
    "Migrations for 'learning_logs':\n",
    "0001_initial.py:\n",
    "    - Create model Topic\n",
    "(venv) (base) evan~Documents/django_practice/simple_django_app/$ \n",
    "```"
   ]
  },
  {
   "cell_type": "markdown",
   "metadata": {},
   "source": [
    "The command `makemigrations` tells Django to figure out how to modify the database so it can store the data associated with any new models we have defined. The output here shows that Django has created a migration file called `0001_initial.py`. This migration will create a table for the model `Topic` in the database. Now we will apply this migration and have Django modify the database for us:"
   ]
  },
  {
   "cell_type": "markdown",
   "metadata": {},
   "source": [
    "```bash\n",
    "(venv) (base) evan~Documents/django_practice/simple_django_app/$ python manage.py migrate\n",
    "--snip--\n",
    "Running migrations:\n",
    "    Rendering model states... DONE\n",
    "    Applying learning_logs.0001_initial... OK\n",
    "```"
   ]
  },
  {
   "cell_type": "markdown",
   "metadata": {},
   "source": [
    "Most of the output from this command is identical to the output from the first time we issued the `migrate` command. The line we need to check is the last one shown above, where Django confirms that everything worked `OK` when it applied the migration for `learning_logs`.\n",
    "\n",
    "Whenever we want to modify the data that Learning Log manages, we will follow these three steps:\n",
    "1. Modify `models.py`\n",
    "2. Call `makemigrations` on `learning_logs`\n",
    "3. Tell Django to `migrate` the project\n",
    "#### The Django Admin Site\n",
    "When you define models for an app, Django makes it easy for us to work with our models through the *admin site*. A site's administrators use the admin site, not a site's general users. We will set up the admin site and use it to add some topics through the `Topic` model.\n",
    "##### Setting Up a Superuser\n",
    "Django allows us to create a user who has all privileges available on the site, called a *superuser*. A *privilege* controls the actions a user can take. The most restrictive privilege settings allow a user to only read public information on the site. Registered users typically have the privilege of reading their own private data and some selected information available only to members. To effectively administer a web application, the site owner usually needs access to all information stored on the site. A good administrator is careful with their users' sensitive information, because users put a lot of trust into the apps they access.\n",
    "\n",
    "To create a superuser in Django, enter the following command and respond to the prompts:"
   ]
  },
  {
   "cell_type": "markdown",
   "metadata": {},
   "source": [
    "```bash\n",
    "(venv) (base) evan~Documents/django_practice/simple_django_app/$ python manage.py createsuperuser\n",
    "Username (leave blank to use 'evan'): *I left it blank\n",
    "Email address:\n",
    "Password:\n",
    "Password (again):\n",
    "Superuser created successfully.\n",
    "(venv) (base) evan~Documents/django_practice/simple_django_app/$\n",
    "```"
   ]
  },
  {
   "cell_type": "markdown",
   "metadata": {},
   "source": [
    "When we issue the command `createsuperuser`, Django prompts you to enter a username for the superuser. Here we're using `ll_admin`, but we can enter any username we want. We can enter an email address if we want or we can leave it blank. We will need to enter our password twice.\n",
    "##### Registering a Model with the Admin Site\n",
    "Django includes some models in the admin site automatically, such as `User` and `Group`, but the models we create need to be registered manually. When we started the `learning_logs` app, Django created a file called `admin.py` in the same directory as `models.py`:"
   ]
  },
  {
   "cell_type": "markdown",
   "metadata": {},
   "source": [
    "```python\n",
    "from django.contrib import admin\n",
    "\n",
    "# Register you models here.\n",
    "```"
   ]
  },
  {
   "cell_type": "markdown",
   "metadata": {},
   "source": [
    "To register `Topic` with the admin site, enter:\n",
    "\n",
    "```python\n",
    "from django.contrib import admin\n",
    "\n",
    "from learning_logs.models import Topic\n",
    "\n",
    "admin.site.register(Topic)\n",
    "```\n",
    "This code imports the model we want to register, `Topic`, and then uses `admin.site.register()` to tell Django to manage our model through the admin site.\n",
    "\n",
    "Now use the superuser account to access the admin site, located at *http://localhost:8000/admin/*, enter the username and password for the superuser we just created. The admin page we see allows us to add new users and groups and change the existing ones. We can also work with data related to the `Topic` model we just defined.\n",
    "##### Adding Topics\n",
    "Now that `Topic` has been registered with the admin site, let's add our first otpic. Click **Topics** to go to the Topics page, which is mostly empty because we have no topics to manage yet. Click **Add**, and we'll see a form for adding a new topic. Enter **Chess** in the first box and click **Save**. We will be sent back to the Topics admin page, and we will see the topic we just created.\n",
    "\n",
    "We can create a second topic, so we will have more data to work with. Click **Add** again, and create a second topic, **Rock Climbing**. When we click **Save**, we will be sent back to the main Topics page again, and we will see both Chess and Rock Climbing listed.\n",
    "##### Defining the Entry Model\n",
    "To record what we have learned about chess and rock climbing, we need to define a mdoel for the kinds of entries users can make in their learning logs. Each entry needs to be associated with a particular topic. This relationsip is called a *many-to-one relationship*, meaning many entries can be associated with one topics.\n",
    "\n",
    "Here is the code for the `Entry` model:\n",
    "```python\n",
    "from django.db import models\n",
    "\n",
    "class Topic(models.Model):\n",
    "    --snip--\n",
    "    \n",
    "class Entry(models.Model):\n",
    "    \"\"\"Something specific learned about a topic.\"\"\"\n",
    "    topic = models.ForeignKey(Topic, on_delete = models.CASCADE)\n",
    "    text = models.TextField()\n",
    "    date_added = models.DateTimeField(auto_now_add = True)\n",
    "\n",
    "    class Meta:\n",
    "        verbose_name_plural = \"entries\"\n",
    "\n",
    "        def __str__(self):\n",
    "            \"\"\"Return a string representation of the model.\"\"\"\n",
    "            return self.text[:50] + \"...\"\n",
    "        \n",
    "```\n",
    "The `Entry` class inherits from Django's base `Model` class, just as `Topic` did. The first attribute, `topic`, is a `ForeignKey` instance. A *foreign key* is a database term; it's a reference to another record in the database. This is the code that connects each entry to a specific topic. Each topic is assigned a key, or ID, when it's created. When Django needs to establish a connection between two pieces of data, it uses the key associated with each piece of information. We will use these connections shortly to retrieve all the entries associated with a certain topic. The `on_delete = models.CASCADE` argument tells Django that when a topic is deleted, all of the entries associated with that topic should be deleted as well. This is known as a *cascading delete*.\n",
    "\n",
    "Next is an attribute called `text`, which is an instance of the `TextField`. This kind of field does not need a size limit, because we do not want to limit the size of individual entries. The `date_added` attribute allows us to present entries in the order they were created an to place a timestamp next ot each entry.\n",
    "\n",
    "We then nest the `Meta` class inside our `Entry` class. `Meta` holds extra info for managing a model; here it allows us to set a special attribute telling Django to use `Entries` when it needs to refer to more than one entry, otherwise Django would refer to more than one entry as \"Entrys\". Finally, the `__str__()` method tells Django which information to show when it refers to individual entries. Because an entry can be a long body of text, we tell Django to show the first 50 characters of text. We also add an ellipsis to clarify that we are not always displaying the entire entry.\n",
    "##### Migrating the Entry Model\n",
    "Because we have added a new model, we need to migrate the database again. This process will become quite familiar:\n",
    "1. We modify `models.py`\n",
    "2. Run the command `python manage.py makemigrations app_name`\n",
    "3. Run the command `python manage.py migrate`\n",
    "\n",
    "Migrate the database and check the output:"
   ]
  },
  {
   "cell_type": "markdown",
   "metadata": {},
   "source": [
    "```bash\n",
    "(venv) (base) evan~Documents/django_practice/simple_django_app/$ python manage.py makemigration learning_logs\n",
    "Migrations for 'learning_logs':\n",
    "    0002_entry.py:\n",
    "        - Create model Entry\n",
    "(venv) (base) evan~Documents/django_practice/simple_django_app/$ python manage.py migrate\n",
    "Operations to perform:\n",
    "--snip--\n",
    "Applying learning_logs.0002_entry... OK\n",
    "```"
   ]
  },
  {
   "cell_type": "markdown",
   "metadata": {},
   "source": [
    "A new migration called `0002_entry.py` is generated, which tells Django how to modify the database to store information related to the model `Entry`. When we issue the `migrate` command, we see that Django applied this migration, and everything was okay.\n",
    "##### Registering Entry with the Admin Site\n",
    "We also need to register the `Entry` model. Here's what `admin.py` should look like now:\n",
    "```python\n",
    "from django.contrib import admin\n",
    "\n",
    "from learning_logs.models import Topic, Entry\n",
    "\n",
    "admin.site.register(Topic)\n",
    "admin.site.register(Entry)\n",
    "```"
   ]
  },
  {
   "cell_type": "markdown",
   "metadata": {},
   "source": [
    "We can now see *Entries* listed under *LEARNING_LOGS* on our admin page. Click the **Add** for Entries, or click **Entries**, and then choose **Add entry**. We should see a drop-down list to select the topic we are creating an entry for and a text box for adding an entry. Select **Chess** from the drop-down list, and add an entry.\n",
    "\n",
    "When we click **Save**, we will be brought back to the main admin page for entries. Here we will see the benefit of using `text[:50]` as the string representation for each entry; it's much easier to work with multiple entries in the admin interface if we see only the first part of an entry rather than the entire text of each entry.\n",
    "\n",
    "We make a second entry for Chess and then an entry for Rock Climbing.\n",
    "##### The Django Shell\n",
    "Now that we have entered some data, we can examine that data programmatically through an interactive terminal session. This interactive environment is called the Django *shell*, and it's a great environment for testing and troubleshooting through your project."
   ]
  },
  {
   "cell_type": "markdown",
   "metadata": {},
   "source": [
    "```bash\n",
    "(venv) (base) evan~Documents/django_practice/simple_django_app/$ python manage.py shell\n",
    ">>> from learning_logs.models import Topic\n",
    ">>> Topic.objects.all()\n",
    "<QuerySet[<Topic: Chess>, <Topic: Rock Climbing>]>\n",
    "```"
   ]
  },
  {
   "cell_type": "markdown",
   "metadata": {},
   "source": [
    "The command `python manage.py shell` launches a Python interpreter that we can use to explore the data stored in our project's database. Here we import the model `Topic` from the `learning_logs.models` module. We then use the method `Topic.objects.all()` to get all of the instances of the model `Topic`; the list that's returned is called a *query set*.\n",
    "\n",
    "We can loop over a queryset just as we'd loop over a list. Here's how we can see the ID that's been assigned to each topic object:\n",
    "```bash\n",
    ">>> topics = Topics.objects.all()\n",
    ">>> for topic in topics:\n",
    "...     print(topic.id, topic)\n",
    "...\n",
    "1 Chess\n",
    "2 Rock Climbing\n",
    "```"
   ]
  },
  {
   "cell_type": "markdown",
   "metadata": {},
   "source": [
    "We store the queryset in `topics`, and then print each topic's `id` attribute and the string representation of each topic. If we know the ID of a particular object, we can get that object and examine any attribute the object has. Let's look at the `text` and `date_added` values for Chess:\n",
    "```bash\n",
    ">>> t = Topic.objects.get(id = 1)\n",
    ">>> t.text\n",
    "'Chess'\n",
    ">>> t.date_added\n",
    "datetime.datetime(2021, 2, 18, 1, 1, 29, 986903, tzinfo = <UTC>)\n",
    "```"
   ]
  },
  {
   "cell_type": "markdown",
   "metadata": {},
   "source": [
    "We can also look at the entries related to a certain topic. Earlier we defined the `topic` attribute for the `Entry` model. This was a `ForeignKey`, a connection between each entry and a topic. Django can use this connection to get every entry related to a certain topic, like this:\n",
    "```bash\n",
    ">>> t.entry_set.all()\n",
    "--snip--\n",
    "```\n",
    "To get data through a foreign key relationship, we use the lowercase name of the related model followed by an underscore and the word `set`. We use this kind of syntax when we begin to code the pages users can request. The shell is very useful for making sure our code retrieves the data we want it to. If our code works as we expect it to in the shell, we can expect it to work properly in the files we write within our prject. If our code generates errors or doesn't retrieve the data we expect it to, it's much easier to troubleshoot our code in the simple shell environment than it is within the files that generate web pages. We won't refer to the shell much, but we should continue using it to practice working with Django's syntax for accessing data stored in a project.\n",
    "##### Exercises\n",
    "**Short Entries** Add an iff statement to the `__str__()` method that adds an ellipsis only if the entry is more than 50 characters long. Use the admin site to add an entry that is fewer than 50 characters long, and check that it doesn't have an ellipsis when viewed.\n",
    "\n",
    "Completed\n",
    "\n",
    "**The Django API** When we write code to access the data in our project, we are writing a *query*. Skim the documentation at *https://docs.djangoproject.com/en/3.1/topics/db/queries/*. Much of what we see will look new, but it will be quite useful as we start to work on our own projects.\n",
    "\n",
    "**Pizzeria** Start a new project called `pizzeria` with an app called `pizzas`. Define a model `Pizza` with a field called `nsmr`, which will hold name values such as `Hawaiian` and `Meat Lovers`. Define a model called `Topping` with fields called `pizza` and `name`. The `pizza` filed should be a foreign key to `Pizza`, and `name` should be able to hold values such as `pineapple`, `Canadian bacon`, and `sausage`. \n",
    "\n",
    "Register both models with the admin site, and use the site to enter some pizza names and toppings. Use the shell to explore the data we entered.\n",
    "\n",
    "Completed"
   ]
  }
 ],
 "metadata": {
  "kernelspec": {
   "display_name": "Python 3",
   "language": "python",
   "name": "python3"
  },
  "language_info": {
   "codemirror_mode": {
    "name": "ipython",
    "version": 3
   },
   "file_extension": ".py",
   "mimetype": "text/x-python",
   "name": "python",
   "nbconvert_exporter": "python",
   "pygments_lexer": "ipython3",
   "version": "3.8.3"
  }
 },
 "nbformat": 4,
 "nbformat_minor": 4
}
